{
 "metadata": {
  "name": "Image Basics"
 },
 "nbformat": 3,
 "nbformat_minor": 0,
 "worksheets": [
  {
   "cells": [
    {
     "cell_type": "markdown",
     "metadata": {},
     "source": [
      "#Welcome to the first SimpleITK demo:\n",
      "#SimpleITK Image Basics\n",
      "\n",
      "This document will give a brief orientation to the SimpleITK Image class.\n",
      "\n",
      "First we import the SimpleITK Python module. By convention our module is imported into the shorter and more pythonic \"sitk\" local name."
     ]
    },
    {
     "cell_type": "code",
     "collapsed": false,
     "input": [
      "import SimpleITK as sitk"
     ],
     "language": "python",
     "metadata": {},
     "outputs": []
    },
    {
     "cell_type": "markdown",
     "metadata": {},
     "source": [
      "## Construction\n",
      "\n",
      "There are a variety of ways to create an image. All images' initial value is well defined as zero."
     ]
    },
    {
     "cell_type": "code",
     "collapsed": false,
     "input": [
      "image = sitk.Image(256, 128, 64, sitk.sitkInt16)\n",
      "image_2D = sitk.Image(64, 64, sitk.sitkFloat32)\n",
      "image_2D = sitk.Image([32,32], sitk.sitkUInt32)\n",
      "image_RGB = sitk.Image([128,128], sitk.sitkVectorUInt8, 3)"
     ],
     "language": "python",
     "metadata": {},
     "outputs": []
    },
    {
     "cell_type": "markdown",
     "metadata": {},
     "source": [
      "### More Information about the class be obtained in the Docstring\n",
      "\n",
      "\n",
      "SimpleITK classes and functions have the Docstrings derived from the C++ function definition and the Doxygen documentation. "
     ]
    },
    {
     "cell_type": "code",
     "collapsed": false,
     "input": [
      "help(image)"
     ],
     "language": "python",
     "metadata": {},
     "outputs": []
    },
    {
     "cell_type": "markdown",
     "metadata": {},
     "source": [
      "##Accessing Attributes\n",
      "\n",
      "If you are familliar with ITK, then these methods will follow your expectations:"
     ]
    },
    {
     "cell_type": "code",
     "collapsed": false,
     "input": [
      "print image.GetSize()\n",
      "print image.GetOrigin()\n",
      "print image.GetSpacing()\n",
      "print image.GetDirection()\n",
      "print image.GetNumberOfComponentsPerPixel()"
     ],
     "language": "python",
     "metadata": {},
     "outputs": []
    },
    {
     "cell_type": "markdown",
     "metadata": {},
     "source": [
      "Note: The starting index of a SimpleITK Image is always 0. If the output of an ITK filter has non-zero starting index, then the origin will be adjusted. \n",
      "\n",
      "The size of the dimensions have explicit accessors:"
     ]
    },
    {
     "cell_type": "code",
     "collapsed": false,
     "input": [
      "print image.GetDimension()\n",
      "print image.GetWidth()\n",
      "print image.GetHeight()\n",
      "print image.GetDepth()"
     ],
     "language": "python",
     "metadata": {},
     "outputs": []
    },
    {
     "cell_type": "markdown",
     "metadata": {},
     "source": [
      "Since the dimension  and pixel type of a SimpleITK image is determined at run-time accessors are needed. "
     ]
    },
    {
     "cell_type": "code",
     "collapsed": false,
     "input": [
      "print image.GetDimension()\n",
      "print image.GetPixelIDValue()\n",
      "print image.GetPixelIDTypeAsString()"
     ],
     "language": "python",
     "metadata": {},
     "outputs": []
    },
    {
     "cell_type": "markdown",
     "metadata": {},
     "source": [
      "What is the depth of a 2D image?"
     ]
    },
    {
     "cell_type": "code",
     "collapsed": false,
     "input": [
      "print image_2D.GetSize()\n",
      "print image_2D.GetDepth()"
     ],
     "language": "python",
     "metadata": {},
     "outputs": []
    },
    {
     "cell_type": "markdown",
     "metadata": {},
     "source": [
      "What is the dimension and size of a Vector image?"
     ]
    },
    {
     "cell_type": "code",
     "collapsed": false,
     "input": [
      "print image_RGB.GetDimension()\n",
      "print image_RGB.GetSize()"
     ],
     "language": "python",
     "metadata": {},
     "outputs": []
    },
    {
     "cell_type": "code",
     "collapsed": false,
     "input": [
      "print image_RGB.GetNumberOfComponentsPerPixel()"
     ],
     "language": "python",
     "metadata": {},
     "outputs": []
    },
    {
     "cell_type": "markdown",
     "metadata": {},
     "source": [
      "##Accessing Pixels\n",
      "\n",
      "There are the member functions ``GetPixel`` and ``SetPixel`` which provides an ITK-like interface for pixel access."
     ]
    },
    {
     "cell_type": "code",
     "collapsed": false,
     "input": [
      "help(image.GetPixel)"
     ],
     "language": "python",
     "metadata": {},
     "outputs": []
    },
    {
     "cell_type": "code",
     "collapsed": false,
     "input": [
      "print image.GetPixel(0, 0, 0)\n",
      "image.SetPixel(0, 0, 0, 1)\n",
      "print image.GetPixel(0, 0, 0)\n",
      "#print image.GetPixel([0,0,0]) BUG: Causes segfault in 0.6rc1 fix before release"
     ],
     "language": "python",
     "metadata": {},
     "outputs": []
    },
    {
     "cell_type": "code",
     "collapsed": false,
     "input": [
      "\n",
      "print image[0,0,0]\n",
      "image[0,0,0] = 10\n",
      "print image[0,0,0]"
     ],
     "language": "python",
     "metadata": {},
     "outputs": []
    },
    {
     "cell_type": "markdown",
     "metadata": {},
     "source": [
      "## Conversion between numpy and SimpleITK"
     ]
    },
    {
     "cell_type": "code",
     "collapsed": false,
     "input": [
      "nda = sitk.GetArrayFromImage(image)\n",
      "print nda"
     ],
     "language": "python",
     "metadata": {},
     "outputs": []
    },
    {
     "cell_type": "code",
     "collapsed": false,
     "input": [
      "help(sitk.GetArrayFromImage)"
     ],
     "language": "python",
     "metadata": {},
     "outputs": []
    },
    {
     "cell_type": "code",
     "collapsed": false,
     "input": [
      "nda = sitk.GetArrayFromImage(image_RGB)\n",
      "img = sitk.GetImageFromArray(nda)\n",
      "img.GetSize()"
     ],
     "language": "python",
     "metadata": {},
     "outputs": []
    },
    {
     "cell_type": "code",
     "collapsed": false,
     "input": [
      "help(sitk.GetImageFromArray)"
     ],
     "language": "python",
     "metadata": {},
     "outputs": []
    },
    {
     "cell_type": "code",
     "collapsed": false,
     "input": [
      "img = sitk.GetImageFromArray(nda, isVector=True)\n",
      "print img"
     ],
     "language": "python",
     "metadata": {},
     "outputs": []
    },
    {
     "cell_type": "markdown",
     "metadata": {},
     "source": [
      "### Are we still dealing with Image, because I haven't seen one yet...\n",
      "\n",
      "While SimpleITK does not do visualization, it does contain a built in ``Show`` method. This function writes the image out to disk and than launches a program for visualization. By default it's configured to use ImageJ, because is readily supports all the image types which SimpleITK has. However, it's easily customizable by setting enviroment variables."
     ]
    },
    {
     "cell_type": "code",
     "collapsed": false,
     "input": [
      "sitk.Show(image)"
     ],
     "language": "python",
     "metadata": {},
     "outputs": []
    },
    {
     "cell_type": "code",
     "collapsed": false,
     "input": [
      "sitk.Show?"
     ],
     "language": "python",
     "metadata": {},
     "outputs": []
    },
    {
     "cell_type": "markdown",
     "metadata": {},
     "source": [
      "By converting into a numpy array, matplotlob can be used for visualization for integration into the scientifc python enviroment."
     ]
    },
    {
     "cell_type": "code",
     "collapsed": false,
     "input": [
      "import pylab\n",
      "z = 0\n",
      "slice = sitk.GetArrayFromImage(image)[z,:,:]\n",
      "imshow(slice)"
     ],
     "language": "python",
     "metadata": {},
     "outputs": []
    },
    {
     "cell_type": "code",
     "collapsed": false,
     "input": [],
     "language": "python",
     "metadata": {},
     "outputs": []
    }
   ],
   "metadata": {}
  }
 ]
}