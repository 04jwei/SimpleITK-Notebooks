{
 "metadata": {
  "name": "",
  "signature": "sha256:60dc3c8ff8fd19b6455ae2e7265911d810134bc16a683010a8a6fa99b4a465ae"
 },
 "nbformat": 3,
 "nbformat_minor": 0,
 "worksheets": [
  {
   "cells": [
    {
     "cell_type": "heading",
     "level": 1,
     "metadata": {},
     "source": [
      "Resampling an Image onto Another's Physical Space"
     ]
    },
    {
     "cell_type": "markdown",
     "metadata": {},
     "source": [
      "The purpose of this Notebook is to demonstrate how the physical space described by the meta-data is used when resampling onto a reference image."
     ]
    },
    {
     "cell_type": "code",
     "collapsed": false,
     "input": [
      "from __future__ import print_function\n",
      "import matplotlib.pyplot as plt\n",
      "%matplotlib inline\n",
      "\n",
      "import SimpleITK as sitk\n",
      "print(sitk.Version())\n",
      "from myshow import myshow\n",
      "# Download data to work on\n",
      "from downloaddata import fetch_midas_data as fdata\n",
      "\n",
      "OUTPUT_DIR = \"Output\""
     ],
     "language": "python",
     "metadata": {},
     "outputs": []
    },
    {
     "cell_type": "markdown",
     "metadata": {},
     "source": [
      "Load the RGB cryosectioning of the Visible Human Male dataset. The data is about 1GB so this may take several seconds, or a bit longer if this is the first time the data is downloaded from the midas repository."
     ]
    },
    {
     "cell_type": "code",
     "collapsed": false,
     "input": [
      "fixed = sitk.ReadImage(fdata(\"vm_head_rgb.mha\"))"
     ],
     "language": "python",
     "metadata": {},
     "outputs": []
    },
    {
     "cell_type": "code",
     "collapsed": false,
     "input": [
      "moving = sitk.ReadImage(fdata(\"vm_head_mri.mha\"))"
     ],
     "language": "python",
     "metadata": {},
     "outputs": []
    },
    {
     "cell_type": "code",
     "collapsed": false,
     "input": [
      "print(fixed.GetSize())\n",
      "print(fixed.GetOrigin())\n",
      "print(fixed.GetSpacing())\n",
      "print(fixed.GetDirection())"
     ],
     "language": "python",
     "metadata": {},
     "outputs": []
    },
    {
     "cell_type": "code",
     "collapsed": false,
     "input": [
      "print(moving.GetSize())\n",
      "print(moving.GetOrigin())\n",
      "print(moving.GetSpacing())\n",
      "print(moving.GetDirection())"
     ],
     "language": "python",
     "metadata": {},
     "outputs": []
    },
    {
     "cell_type": "code",
     "collapsed": false,
     "input": [
      "import sys\n",
      "resample = sitk.ResampleImageFilter()\n",
      "resample.SetReferenceImage(fixed)\n",
      "resample.SetInterpolator(sitk.sitkBSpline)\n",
      "resample.AddCommand(sitk.sitkProgressEvent, lambda: print(\"\\rProgress: {0:03.1f}%...\".format(100*resample.GetProgress()),end=''))\n",
      "resample.AddCommand(sitk.sitkProgressEvent, lambda: sys.stdout.flush())\n",
      "out = resample.Execute(moving)"
     ],
     "language": "python",
     "metadata": {},
     "outputs": []
    },
    {
     "cell_type": "markdown",
     "metadata": {},
     "source": [
      "Because we are resampling the moving image using the physical location of the fixed image without any transformation (identity), most of the resulting volume is empty. The image content appears in slice 57 and below.  "
     ]
    },
    {
     "cell_type": "code",
     "collapsed": false,
     "input": [
      "myshow(out)"
     ],
     "language": "python",
     "metadata": {},
     "outputs": []
    },
    {
     "cell_type": "code",
     "collapsed": false,
     "input": [
      "  #combine the two images using a checkerboard pattern:\n",
      "  #because the moving image is single channel with a high dynamic range we rescale it to [0,255] and repeat \n",
      "  #the channel 3 times\n",
      "vis = sitk.CheckerBoard(fixed,sitk.Compose([sitk.Cast(sitk.RescaleIntensity(out),sitk.sitkUInt8)]*3), checkerPattern=[15,10,1])"
     ],
     "language": "python",
     "metadata": {},
     "outputs": []
    },
    {
     "cell_type": "code",
     "collapsed": false,
     "input": [
      "myshow(vis)"
     ],
     "language": "python",
     "metadata": {},
     "outputs": []
    },
    {
     "cell_type": "markdown",
     "metadata": {},
     "source": [
      "Write the image to the Output directory: (1) original as a single image volume and (2) as a series of smaller JPEG images which can be constructed into an animated GIF."
     ]
    },
    {
     "cell_type": "code",
     "collapsed": false,
     "input": [
      "import os\n",
      "\n",
      "sitk.WriteImage(vis, os.path.join(OUTPUT_DIR, \"example_resample_vis.mha\"))\n",
      "\n",
      "temp = sitk.Shrink(vis,[3,3,2])\n",
      "sitk.WriteImage(temp, [os.path.join(OUTPUT_DIR,\"r{0:03d}.jpg\".format(i)) for i in range(temp.GetSize()[2])])"
     ],
     "language": "python",
     "metadata": {},
     "outputs": []
    },
    {
     "cell_type": "code",
     "collapsed": false,
     "input": [],
     "language": "python",
     "metadata": {},
     "outputs": []
    }
   ],
   "metadata": {}
  }
 ]
}