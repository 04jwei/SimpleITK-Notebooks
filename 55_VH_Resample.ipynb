{
 "metadata": {
  "name": "",
  "signature": "sha256:452b7891a8fa10c9e254dc0b435fa4331873b92dde3b6f3aee1d166049e189ff"
 },
 "nbformat": 3,
 "nbformat_minor": 0,
 "worksheets": [
  {
   "cells": [
    {
     "cell_type": "heading",
     "level": 1,
     "metadata": {},
     "source": [
      "Resampling an Image onto Another's Physical Space"
     ]
    },
    {
     "cell_type": "markdown",
     "metadata": {},
     "source": [
      "The purpose of this Notebook is to demostrate how the physical space described by the meta-data is used when resample onto a reference image."
     ]
    },
    {
     "cell_type": "code",
     "collapsed": false,
     "input": [
      "from __future__ import print_function"
     ],
     "language": "python",
     "metadata": {},
     "outputs": []
    },
    {
     "cell_type": "code",
     "collapsed": false,
     "input": [
      "import SimpleITK as sitk\n",
      "print(sitk.Version())\n",
      "import sys\n",
      "\n",
      "%matplotlib inline\n",
      "from myshow import myshow"
     ],
     "language": "python",
     "metadata": {},
     "outputs": []
    },
    {
     "cell_type": "markdown",
     "metadata": {},
     "source": [
      "Load the RGB cryosectioning of the Visible Human Male dataset.\n",
      "\n",
      "The data is about 1.5 GB so this may take a several seconds."
     ]
    },
    {
     "cell_type": "code",
     "collapsed": false,
     "input": [
      "fixed = sitk.ReadImage(\"Data/vm_head_rgb.mha\")"
     ],
     "language": "python",
     "metadata": {},
     "outputs": []
    },
    {
     "cell_type": "code",
     "collapsed": false,
     "input": [
      "moving = sitk.ReadImage(\"Data/vm_head_mri.mha\")"
     ],
     "language": "python",
     "metadata": {},
     "outputs": []
    },
    {
     "cell_type": "code",
     "collapsed": false,
     "input": [
      "print(fixed.GetSize())\n",
      "print(fixed.GetOrigin())\n",
      "print(fixed.GetSpacing())\n",
      "print(fixed.GetDirection())"
     ],
     "language": "python",
     "metadata": {},
     "outputs": []
    },
    {
     "cell_type": "code",
     "collapsed": false,
     "input": [
      "print(moving.GetSize())\n",
      "print(moving.GetOrigin())\n",
      "print(moving.GetSpacing())\n",
      "print(moving.GetDirection())"
     ],
     "language": "python",
     "metadata": {},
     "outputs": []
    },
    {
     "cell_type": "code",
     "collapsed": false,
     "input": [
      "resample = sitk.ResampleImageFilter()\n",
      "resample.SetReferenceImage(fixed)\n",
      "resample.SetInterpolator(sitk.sitkBSpline)\n",
      "resample.AddCommand(sitk.sitkProgressEvent, lambda: print(\"\\rProgress: {0:03.1f}%...\".format(100*resample.GetProgress()),end=''))\n",
      "resample.AddCommand(sitk.sitkProgressEvent, lambda: sys.stdout.flush())\n",
      "out = resample.Execute(moving)"
     ],
     "language": "python",
     "metadata": {},
     "outputs": []
    },
    {
     "cell_type": "code",
     "collapsed": false,
     "input": [
      "myshow(out)"
     ],
     "language": "python",
     "metadata": {},
     "outputs": []
    },
    {
     "cell_type": "code",
     "collapsed": false,
     "input": [
      "vis = sitk.CheckerBoard(fixed,sitk.Compose([sitk.Cast(sitk.RescaleIntensity(out),sitk.sitkUInt8)]*3), checkerPattern=[15,10,1])"
     ],
     "language": "python",
     "metadata": {},
     "outputs": []
    },
    {
     "cell_type": "code",
     "collapsed": false,
     "input": [
      "myshow(vis)"
     ],
     "language": "python",
     "metadata": {},
     "outputs": []
    },
    {
     "cell_type": "markdown",
     "metadata": {},
     "source": [
      "Write the the image out as a full volume and as a series of JPEG images which can be constructed into a GIF."
     ]
    },
    {
     "cell_type": "code",
     "collapsed": false,
     "input": [
      "sitk.WriteImage(vis, \"example_resample_vis.mha\")\n",
      "\n",
      "temp = sitk.Shrink(vis,[3,3,2])\n",
      "\n",
      "for z in range(temp.GetSize()[2]):\n",
      "    sitk.WriteImage(temp[:,:,z], \"r_{0:03}.jpg\".format(z))\n",
      "del temp"
     ],
     "language": "python",
     "metadata": {},
     "outputs": []
    },
    {
     "cell_type": "code",
     "collapsed": false,
     "input": [],
     "language": "python",
     "metadata": {},
     "outputs": []
    }
   ],
   "metadata": {}
  }
 ]
}