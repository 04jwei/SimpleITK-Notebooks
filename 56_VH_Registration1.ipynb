{
 "metadata": {
  "name": "",
  "signature": "sha256:c7aa5caa9159d5a2736c65c1dd2aa00f0cb53c89e16c48d881b992e403108d38"
 },
 "nbformat": 3,
 "nbformat_minor": 0,
 "worksheets": [
  {
   "cells": [
    {
     "cell_type": "code",
     "collapsed": false,
     "input": [
      "from __future__ import print_function\n",
      "import matplotlib.pyplot as plt\n",
      "%matplotlib inline\n",
      "\n",
      "import SimpleITK as sitk\n",
      "print(sitk.Version())\n",
      "from myshow import myshow\n",
      "# Download data to work on\n",
      "from downloaddata import fetch_data as fdata\n",
      "\n",
      "OUTPUT_DIR = \"Output\""
     ],
     "language": "python",
     "metadata": {},
     "outputs": []
    },
    {
     "cell_type": "markdown",
     "metadata": {},
     "source": [
      "This section of the Visibile Human Male is about 1.5GB. To expedite processing and registration we crop the region of interest, and reduce the resolution. Take note that the physical space is maintained through these operations. "
     ]
    },
    {
     "cell_type": "code",
     "collapsed": false,
     "input": [
      "fixed_rgb = sitk.ReadImage(fdata(\"vm_head_rgb.mha\"))\n",
      "fixed_rgb = fixed_rgb[735:1330,204:975,:]\n",
      "fixed_rgb = sitk.BinShrink(fixed_rgb,[3,3,1])"
     ],
     "language": "python",
     "metadata": {},
     "outputs": []
    },
    {
     "cell_type": "code",
     "collapsed": false,
     "input": [
      "moving = sitk.ReadImage(fdata(\"vm_head_mri.mha\"))\n"
     ],
     "language": "python",
     "metadata": {},
     "outputs": []
    },
    {
     "cell_type": "code",
     "collapsed": false,
     "input": [
      "myshow(moving)"
     ],
     "language": "python",
     "metadata": {},
     "outputs": []
    },
    {
     "cell_type": "code",
     "collapsed": false,
     "input": [
      "# Segement blue ice\n",
      "seeds = [[10,10,10]]\n",
      "fixed_mask = sitk.VectorConfidenceConnected(fixed_rgb, seedList=seeds, initialNeighborhoodRadius=5, numberOfIterations=4, multiplier=8)"
     ],
     "language": "python",
     "metadata": {},
     "outputs": []
    },
    {
     "cell_type": "code",
     "collapsed": false,
     "input": [
      "# Invert the segment and choose largest component\n",
      "fixed_mask = sitk.RelabelComponent(sitk.ConnectedComponent(fixed_mask==0))==1"
     ],
     "language": "python",
     "metadata": {},
     "outputs": []
    },
    {
     "cell_type": "code",
     "collapsed": false,
     "input": [
      "myshow(sitk.Mask(fixed_rgb, fixed_mask));"
     ],
     "language": "python",
     "metadata": {},
     "outputs": []
    },
    {
     "cell_type": "code",
     "collapsed": false,
     "input": [
      "# pick red channel\n",
      "fixed = sitk.VectorIndexSelectionCast(fixed_rgb,0)\n",
      "\n",
      "fixed = sitk.Cast(fixed,sitk.sitkFloat32)\n",
      "moving = sitk.Cast(moving,sitk.sitkFloat32)"
     ],
     "language": "python",
     "metadata": {},
     "outputs": []
    },
    {
     "cell_type": "code",
     "collapsed": false,
     "input": [
      "initialTransform = sitk.Euler3DTransform()\n",
      "initialTransform = sitk.CenteredTransformInitializer(sitk.Cast(fixed_mask,moving.GetPixelIDValue()), moving, initialTransform, sitk.CenteredTransformInitializerFilter.MOMENTS)\n",
      "print(initialTransform)"
     ],
     "language": "python",
     "metadata": {},
     "outputs": []
    },
    {
     "cell_type": "code",
     "collapsed": false,
     "input": [
      "def command_iteration(method) :\n",
      "    print(\"{0} = {1} : {2}\".format(method.GetOptimizerIteration(),\n",
      "                                   method.GetMetricValue(),\n",
      "                                   method.GetOptimizerPosition()),\n",
      "              end='\\n');\n",
      "    sys.stdout.flush();"
     ],
     "language": "python",
     "metadata": {},
     "outputs": []
    },
    {
     "cell_type": "code",
     "collapsed": false,
     "input": [
      "tx = initialTransform\n",
      "R = sitk.ImageRegistrationMethod()\n",
      "R.SetMetricAsMattesMutualInformation(numberOfHistogramBins=50)\n",
      "R.SetOptimizerAsGradientDescentLineSearch(learningRate=1,numberOfIterations=100)\n",
      "R.SetOptimizerScalesFromIndexShift()\n",
      "R.SetShrinkFactorsPerLevel([4,2,1])\n",
      "R.SetSmoothingSigmasPerLevel([8,4,2])\n",
      "R.SmoothingSigmasAreSpecifiedInPhysicalUnitsOn()\n",
      "R.SetMetricSamplingStrategy(R.RANDOM)\n",
      "R.SetMetricSamplingPercentage(0.1)\n",
      "R.SetInitialTransform(tx)\n",
      "R.SetInterpolator(sitk.sitkLinear)"
     ],
     "language": "python",
     "metadata": {},
     "outputs": []
    },
    {
     "cell_type": "code",
     "collapsed": false,
     "input": [
      "import sys\n",
      "R.RemoveAllCommands()\n",
      "R.AddCommand( sitk.sitkIterationEvent, lambda: command_iteration(R) )\n",
      "outTx = R.Execute(sitk.Cast(fixed,sitk.sitkFloat32), sitk.Cast(moving,sitk.sitkFloat32))\n",
      "\n",
      "print(\"-------\")\n",
      "print(tx)\n",
      "print(\"Optimizer stop condition: {0}\".format(R.GetOptimizerStopConditionDescription()))\n",
      "print(\" Iteration: {0}\".format(R.GetOptimizerIteration()))\n",
      "print(\" Metric value: {0}\".format(R.GetMetricValue()))"
     ],
     "language": "python",
     "metadata": {},
     "outputs": []
    },
    {
     "cell_type": "code",
     "collapsed": false,
     "input": [
      "tx.AddTransform(sitk.Transform(3,sitk.sitkAffine))\n",
      "\n",
      "R.SetOptimizerAsGradientDescentLineSearch(learningRate=1,numberOfIterations=100)\n",
      "R.SetOptimizerScalesFromIndexShift()\n",
      "R.SetShrinkFactorsPerLevel([2,1])\n",
      "R.SetSmoothingSigmasPerLevel([4,1])\n",
      "R.SmoothingSigmasAreSpecifiedInPhysicalUnitsOn()\n",
      "R.SetInitialTransform(tx)"
     ],
     "language": "python",
     "metadata": {},
     "outputs": []
    },
    {
     "cell_type": "code",
     "collapsed": false,
     "input": [
      "outTx = R.Execute(sitk.Cast(fixed,sitk.sitkFloat32), sitk.Cast(moving,sitk.sitkFloat32))\n",
      "R.GetOptimizerStopConditionDescription()"
     ],
     "language": "python",
     "metadata": {},
     "outputs": []
    },
    {
     "cell_type": "code",
     "collapsed": true,
     "input": [
      "resample = sitk.ResampleImageFilter()\n",
      "resample.SetReferenceImage(fixed_rgb)\n",
      "resample.SetInterpolator(sitk.sitkBSpline)\n",
      "resample.SetTransform(outTx)\n",
      "resample.AddCommand(sitk.sitkProgressEvent, lambda: print(\"\\rProgress: {0:03.1f}%...\".format(100*resample.GetProgress()),end=''))\n",
      "resample.AddCommand(sitk.sitkProgressEvent, lambda: sys.stdout.flush())\n",
      "resample.AddCommand(sitk.sitkEndEvent, lambda: print(\"Done\"))\n",
      "out = resample.Execute(moving)"
     ],
     "language": "python",
     "metadata": {},
     "outputs": []
    },
    {
     "cell_type": "code",
     "collapsed": false,
     "input": [
      "out_rgb = sitk.Cast( sitk.Compose( [sitk.RescaleIntensity(out)]*3), sitk.sitkVectorUInt8)\n",
      "vis_xy = sitk.CheckerBoard(fixed_rgb, out_rgb, checkerPattern=[8,8,1])\n",
      "vis_xz = sitk.CheckerBoard(fixed_rgb, out_rgb, checkerPattern=[8,1,8])\n",
      "vis_xz = sitk.PermuteAxes(vis_xz, [0,2,1])"
     ],
     "language": "python",
     "metadata": {},
     "outputs": []
    },
    {
     "cell_type": "code",
     "collapsed": false,
     "input": [
      "myshow(vis_xz,dpi=30)"
     ],
     "language": "python",
     "metadata": {},
     "outputs": []
    },
    {
     "cell_type": "code",
     "collapsed": false,
     "input": [
      "import os\n",
      "\n",
      "sitk.WriteImage(out, os.path.join(OUTPUT_DIR, \"example_registration.mha\"))\n",
      "sitk.WriteImage(vis_xy, os.path.join(OUTPUT_DIR, \"example_registration_xy.mha\"))\n",
      "sitk.WriteImage(vis_xz, os.path.join(OUTPUT_DIR, \"example_registration_xz.mha\"))"
     ],
     "language": "python",
     "metadata": {},
     "outputs": []
    }
   ],
   "metadata": {}
  }
 ]
}