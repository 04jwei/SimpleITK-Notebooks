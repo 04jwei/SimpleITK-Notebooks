{
 "metadata": {
  "name": "21 Transforms and Resampling"
 },
 "nbformat": 3,
 "nbformat_minor": 0,
 "worksheets": [
  {
   "cells": [
    {
     "cell_type": "markdown",
     "metadata": {},
     "source": [
      "#Transforms and Resampling"
     ]
    },
    {
     "cell_type": "markdown",
     "metadata": {},
     "source": [
      "First, import our packages."
     ]
    },
    {
     "cell_type": "code",
     "collapsed": false,
     "input": [
      "import SimpleITK as sitk\n",
      "import numpy as np\n",
      "from matplotlib import pyplot as plt"
     ],
     "language": "python",
     "metadata": {},
     "outputs": []
    },
    {
     "cell_type": "markdown",
     "metadata": {},
     "source": [
      "##Creating and Manipulating Transforms"
     ]
    },
    {
     "cell_type": "markdown",
     "metadata": {},
     "source": [
      "A number of different spatial transforms are available in SimpleITK.\n",
      "\n",
      "The simplest is the Identity Transform.  This transform simply returns input points unaltered."
     ]
    },
    {
     "cell_type": "code",
     "collapsed": false,
     "input": [
      "print('*Identity Transform*')\n",
      "identity = sitk.Transform(2, sitk.sitkIdentity)\n",
      "print('Dimension: ' + str(identity.GetDimension()))\n",
      "\n",
      "# Points are always defined in physical space\n",
      "point = (1.0, 1.0)\n",
      "def transform_point(transform, point):\n",
      "    transformed_point = transform.TransformPoint(point)\n",
      "    print('Point ' + str(point) + ' transformed is ' + str(transformed_point))\n",
      "\n",
      "transform_point(identity, point)"
     ],
     "language": "python",
     "metadata": {},
     "outputs": []
    },
    {
     "cell_type": "markdown",
     "metadata": {},
     "source": [
      "Transform are defined by two sets of parameters, the *Parameters* and *FixedParameters*.  *FixedParameters* are not changed during the optimization process when performing registration."
     ]
    },
    {
     "cell_type": "code",
     "collapsed": false,
     "input": [
      "print('*Translation Transform*')\n",
      "translation = sitk.Transform(2, sitk.sitkTranslation)\n",
      "\n",
      "print('Parameters: ' + str(translation.GetParameters()))\n",
      "print('FixedParameters: ' + str(translation.GetFixedParameters()))\n",
      "transform_point(translation, point)\n",
      "\n",
      "print('')\n",
      "translation.SetParameters((3.1, 4.4))\n",
      "print('Parameters: ' + str(translation.GetParameters()))\n",
      "transform_point(translation, point)"
     ],
     "language": "python",
     "metadata": {},
     "outputs": []
    },
    {
     "cell_type": "markdown",
     "metadata": {},
     "source": [
      "The affine transform is capable of representing translations, rotations, shearing, and scaling."
     ]
    },
    {
     "cell_type": "code",
     "collapsed": false,
     "input": [
      "print('*Affine Transform*')\n",
      "affine = sitk.Transform(2, sitk.sitkAffine)\n",
      "\n",
      "print('Parameters: ' + str(affine.GetParameters()))\n",
      "print('FixedParameters: ' + str(affine.GetFixedParameters()))\n",
      "transform_point(affine, point)\n",
      "\n",
      "print('')\n",
      "affine.SetParameters((1.0, 0.0, 0.0, 1.0, 3.1, 4.4))\n",
      "print('Parameters: ' + str(affine.GetParameters()))\n",
      "transform_point(affine, point)"
     ],
     "language": "python",
     "metadata": {},
     "outputs": []
    },
    {
     "cell_type": "markdown",
     "metadata": {},
     "source": [
      "A number of other transforms exist to represent non-affine deformations, well-behaved rotation in 3D, etc."
     ]
    },
    {
     "cell_type": "markdown",
     "metadata": {},
     "source": [
      "##Applying Transforms to Images"
     ]
    },
    {
     "cell_type": "markdown",
     "metadata": {},
     "source": [
      "Create a function to display the images that is aware of image spacing."
     ]
    },
    {
     "cell_type": "code",
     "collapsed": false,
     "input": [
      "def myshow(img, title=None, margin=0.05, dpi=80):\n",
      "    nda = sitk.GetArrayFromImage(img)\n",
      "    spacing = img.GetSpacing()\n",
      "        \n",
      "    ysize = nda.shape[0]\n",
      "    xsize = nda.shape[1]\n",
      "      \n",
      "    figsize = (1 + margin) * ysize / dpi, (1 + margin) * xsize / dpi\n",
      "\n",
      "    fig = plt.figure(figsize=figsize, dpi=dpi)\n",
      "    ax = fig.add_axes([margin, margin, 1 - 2*margin, 1 - 2*margin])\n",
      "    \n",
      "    extent = (0, xsize*spacing[1], 0, ysize*spacing[0])\n",
      "    \n",
      "    t = ax.imshow(nda,\n",
      "            extent=extent,\n",
      "            interpolation='hamming',\n",
      "            cmap='gray',\n",
      "            origin='lower')\n",
      "    \n",
      "    if(title):\n",
      "        plt.title(title)"
     ],
     "language": "python",
     "metadata": {},
     "outputs": []
    },
    {
     "cell_type": "markdown",
     "metadata": {},
     "source": [
      "Create a grid image."
     ]
    },
    {
     "cell_type": "code",
     "collapsed": false,
     "input": [
      "grid = sitk.GridSource(outputPixelType=sitk.sitkUInt16,\n",
      "    size=(250, 250),\n",
      "    sigma=(0.5, 0.5),\n",
      "    gridSpacing=(5.0, 5.0),\n",
      "    gridOffset=(0.0, 0.0),\n",
      "    spacing=(0.2,0.2))\n",
      "myshow(grid, 'Grid Input')"
     ],
     "language": "python",
     "metadata": {},
     "outputs": []
    },
    {
     "cell_type": "markdown",
     "metadata": {},
     "source": [
      "To apply the transform, a resampling operation is required."
     ]
    },
    {
     "cell_type": "code",
     "collapsed": false,
     "input": [
      "def resample(image, transform):\n",
      "    # Output image Origin, Spacing, Size, Direction are taken from the reference\n",
      "    # image in this call to Resample\n",
      "    reference_image = image\n",
      "    interpolator = sitk.sitkCosineWindowedSinc\n",
      "    default_value = 100.0\n",
      "    return sitk.Resample(image, reference_image, transform,\n",
      "                         interpolator, default_value)\n",
      "\n",
      "translation.SetParameters((3.1, 4.6))\n",
      "transform_point(translation, point)\n",
      "resampled = resample(grid, translation)\n",
      "myshow(resampled, 'Resampled Translation')"
     ],
     "language": "python",
     "metadata": {},
     "outputs": []
    },
    {
     "cell_type": "markdown",
     "metadata": {},
     "source": [
      "What happened?  The translation is positive in both directions.  Why does the output image move down and to the left?  It important to keep in mind that a transform in a resampling operation defines *the transform from the output space to the input space*."
     ]
    },
    {
     "cell_type": "code",
     "collapsed": false,
     "input": [
      "translation.SetParameters(-1*np.array(translation.GetParameters()))\n",
      "transform_point(translation, point)\n",
      "resampled = resample(grid, translation)\n",
      "myshow(resampled, 'Inverse Resampled')"
     ],
     "language": "python",
     "metadata": {},
     "outputs": []
    },
    {
     "cell_type": "markdown",
     "metadata": {},
     "source": [
      "An affine (line preserving) transformation, can perform translation:"
     ]
    },
    {
     "cell_type": "code",
     "collapsed": false,
     "input": [
      "def affine_translate(transform, x_translation, y_translation):\n",
      "    parameters = np.array(transform.GetParameters())\n",
      "    new_transform = sitk.Transform(transform)\n",
      "    parameters[4] -= x_translation\n",
      "    parameters[5] -= y_translation\n",
      "    new_transform.SetParameters(parameters)\n",
      "    return new_transform\n",
      "    \n",
      "affine = sitk.Transform(2, sitk.sitkAffine)\n",
      "affine = affine_translate(affine, 3.1, 4.6)\n",
      "resampled = resample(grid, affine)\n",
      "myshow(resampled, 'Translated')"
     ],
     "language": "python",
     "metadata": {},
     "outputs": []
    },
    {
     "cell_type": "markdown",
     "metadata": {},
     "source": [
      "or scaling:"
     ]
    },
    {
     "cell_type": "code",
     "collapsed": false,
     "input": [
      "def affine_scale(transform, x_scale, y_scale):\n",
      "    parameters = np.array(transform.GetParameters())\n",
      "    new_transform = sitk.Transform(transform)\n",
      "    parameters[0] /= x_scale\n",
      "    parameters[3] /= y_scale\n",
      "    new_transform.SetParameters(parameters)\n",
      "    return new_transform\n",
      "\n",
      "affine = sitk.Transform(2, sitk.sitkAffine)\n",
      "affine = affine_scale(affine, 3.0, 0.7)\n",
      "resampled = resample(grid, affine)\n",
      "myshow(resampled, 'Scaled')"
     ],
     "language": "python",
     "metadata": {},
     "outputs": []
    },
    {
     "cell_type": "markdown",
     "metadata": {},
     "source": [
      "or rotation:"
     ]
    },
    {
     "cell_type": "code",
     "collapsed": false,
     "input": [
      "def affine_rotate(transform, degrees):\n",
      "    parameters = np.array(transform.GetParameters())\n",
      "    new_transform = sitk.Transform(transform)\n",
      "    matrix = np.array(parameters[:4])\n",
      "    matrix.shape = (2,2)\n",
      "    radians = -np.pi * degrees / 180.\n",
      "    rotation = np.array([[cos(radians), -sin(radians)],[sin(radians), cos(radians)]])\n",
      "    new_matrix = np.dot(rotation, matrix)\n",
      "    new_parameters = np.concatenate((new_matrix.flatten(), parameters[4:]))\n",
      "    new_transform.SetParameters(new_parameters)\n",
      "    return new_transform\n",
      "    \n",
      "affine = sitk.Transform(2, sitk.sitkAffine)\n",
      "affine = affine_rotate(affine, 15.0)\n",
      "resampled = resample(grid, affine)\n",
      "myshow(resampled, 'Rotated')"
     ],
     "language": "python",
     "metadata": {},
     "outputs": []
    },
    {
     "cell_type": "markdown",
     "metadata": {},
     "source": [
      "or shearing:"
     ]
    },
    {
     "cell_type": "code",
     "collapsed": false,
     "input": [
      "def affine_shear(transform, x_shear, y_shear):\n",
      "    parameters = np.array(transform.GetParameters())\n",
      "    new_transform = sitk.Transform(transform)\n",
      "    parameters[1] = -x_shear\n",
      "    parameters[2] = -y_shear\n",
      "    new_transform.SetParameters(parameters)\n",
      "    return new_transform\n",
      "\n",
      "affine = sitk.Transform(2, sitk.sitkAffine)\n",
      "affine = affine_shear(affine, 0.2, 0.1)\n",
      "resampled = resample(grid, affine)\n",
      "myshow(resampled, 'Sheared')"
     ],
     "language": "python",
     "metadata": {},
     "outputs": []
    },
    {
     "cell_type": "markdown",
     "metadata": {},
     "source": [
      "## Composite Transform"
     ]
    },
    {
     "cell_type": "markdown",
     "metadata": {},
     "source": [
      "It is possible to compose multiple transform together into a single transform object.  With a composite transform, multiple resampling operations are prevented, so interpolation errors are not accumulated.  For example, an affine transformation that consists of a translation and rotation,"
     ]
    },
    {
     "cell_type": "code",
     "collapsed": false,
     "input": [
      "translate = (8.0, 16.0)\n",
      "rotate = 20.0\n",
      "\n",
      "affine = sitk.Transform(2, sitk.sitkAffine)\n",
      "affine = affine_translate(affine, translate[0], translate[1])\n",
      "affine = affine_rotate(affine, rotate)\n",
      "\n",
      "resampled = resample(grid, affine)\n",
      "myshow(resampled, 'Single Transform')"
     ],
     "language": "python",
     "metadata": {},
     "outputs": []
    },
    {
     "cell_type": "markdown",
     "metadata": {},
     "source": [
      "can also be represented with two Transform objects applied in sequence with a Composite Transform,"
     ]
    },
    {
     "cell_type": "code",
     "collapsed": false,
     "input": [
      "composite = sitk.Transform(2, sitk.sitkComposite)\n",
      "translation = sitk.Transform(2, sitk.sitkTranslation)\n",
      "translation.SetParameters(-1*np.array(translate))\n",
      "composite.AddTransform(translation)\n",
      "affine = sitk.Transform(2, sitk.sitkAffine)\n",
      "affine = affine_rotate(affine, rotate)\n",
      "composite.AddTransform(affine)\n",
      "\n",
      "resampled = resample(grid, composite)\n",
      "myshow(resampled, 'Two Transforms')"
     ],
     "language": "python",
     "metadata": {},
     "outputs": []
    },
    {
     "cell_type": "markdown",
     "metadata": {},
     "source": [
      "*Beware*, tranforms are noncommutative -- order matters!"
     ]
    },
    {
     "cell_type": "code",
     "collapsed": false,
     "input": [
      "composite = sitk.Transform(2, sitk.sitkComposite)\n",
      "affine = sitk.Transform(2, sitk.sitkAffine)\n",
      "affine = affine_rotate(affine, rotate)\n",
      "composite.AddTransform(affine)\n",
      "translation = sitk.Transform(2, sitk.sitkTranslation)\n",
      "translation.SetParameters(-1*np.array(translate))\n",
      "composite.AddTransform(translation)\n",
      "\n",
      "resampled = resample(grid, composite)\n",
      "myshow(resampled, 'Composite transform in reverse order')"
     ],
     "language": "python",
     "metadata": {},
     "outputs": []
    },
    {
     "cell_type": "markdown",
     "metadata": {},
     "source": [
      "## Reading and Writing Transforms"
     ]
    },
    {
     "cell_type": "code",
     "collapsed": false,
     "input": [
      "import tempfile, os\n",
      "tempdir = tempfile.gettempdir()\n",
      "transform_file = os.path.join(tempdir, 'CompositeTransform.h5')\n",
      "sitk.WriteTransform(composite, transform_file)\n",
      "read_transform = sitk.ReadTransform(transform_file)\n",
      "print(read_transform)"
     ],
     "language": "python",
     "metadata": {},
     "outputs": []
    }
   ],
   "metadata": {}
  }
 ]
}