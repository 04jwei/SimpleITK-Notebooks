{
 "metadata": {
  "name": "Segmentation Region Growing"
 },
 "nbformat": 3,
 "nbformat_minor": 0,
 "worksheets": [
  {
   "cells": [
    {
     "cell_type": "code",
     "collapsed": false,
     "input": [
      "import SimpleITK as sitk"
     ],
     "language": "python",
     "metadata": {},
     "outputs": []
    },
    {
     "cell_type": "code",
     "collapsed": false,
     "input": [
      "def myshow(img, title=None, margin=0.05, dpi=80 ):\n",
      "    nda = sitk.GetArrayFromImage(img)\n",
      "    spacing = img.GetSpacing()\n",
      "    \n",
      "    \n",
      "    if nda.ndim == 3:\n",
      "        # fastest dim, either component or x\n",
      "        c = nda.shape[-1]\n",
      "        \n",
      "        # the the number of components is 3 or 4 consider it an RGB image\n",
      "        if not c in (3,4):\n",
      "            nda = nda[nda.shape[0]//2,:,:]\n",
      "    \n",
      "    elif nda.ndim == 4:\n",
      "        c = nda.shape[-1]\n",
      "        \n",
      "        if not c in (3,4):\n",
      "            raise Runtime(\"Unable to show 3D-vector Image\")\n",
      "            \n",
      "        # take a z-slice\n",
      "        nda = nda[nda.shape[0]//2,:,:,:]\n",
      "            \n",
      "    ysize = nda.shape[0]\n",
      "    xsize = nda.shape[1]\n",
      "   \n",
      "    \n",
      "    # Make a figure big enough to accomodate an axis of xpixels by ypixels\n",
      "    # as well as the ticklabels, etc...\n",
      "    figsize = (1 + margin) * ysize / dpi, (1 + margin) * xsize / dpi\n",
      "\n",
      "    fig = figure(figsize=figsize, dpi=dpi)\n",
      "    # Make the axis the right size...\n",
      "    ax = fig.add_axes([margin, margin, 1 - 2*margin, 1 - 2*margin])\n",
      "    \n",
      "    extent = (0, xsize*spacing[1], ysize*spacing[0], 0)\n",
      "    \n",
      "    t = ax.imshow(nda,extent=extent,interpolation=None)\n",
      "    \n",
      "    if nda.ndim == 2:\n",
      "        t.set_cmap(\"gray\")\n",
      "    \n",
      "    if title:\n",
      "        plt.title(title)"
     ],
     "language": "python",
     "metadata": {},
     "outputs": []
    },
    {
     "cell_type": "code",
     "collapsed": false,
     "input": [
      "def myshow3d(img, xslices=[], yslices=[], zslices=[], title=None, margin=0.05, dpi=80):\n",
      "    size = img.GetSize()\n",
      "    img_xslices = [img[s,:,:] for s in xslices]\n",
      "    img_yslices = [img[:,s,:] for s in yslices]\n",
      "    img_zslices = [img[:,:,s] for s in zslices]\n",
      "    \n",
      "    maxlen = max(len(img_xslices), len(img_yslices), len(img_zslices))\n",
      "    \n",
      "        \n",
      "    img_null = sitk.Image([0,0], img.GetPixelIDValue(), img.GetNumberOfComponentsPerPixel())\n",
      "    \n",
      "    img_slices = []\n",
      "    d = 0\n",
      "    \n",
      "    if len(img_xslices):\n",
      "        img_slices += img_xslices + [img_null]*(maxlen-len(img_xslices))\n",
      "        d += 1\n",
      "        \n",
      "    if len(img_yslices):\n",
      "        img_slices += img_yslices + [img_null]*(maxlen-len(img_yslices))\n",
      "        d += 1\n",
      "     \n",
      "    if len(img_zslices):\n",
      "        img_slices += img_zslices + [img_null]*(maxlen-len(img_zslices))\n",
      "        d +=1\n",
      "    \n",
      "    if maxlen != 0:\n",
      "        if img.GetNumberOfComponentsPerPixel() == 1:\n",
      "            img = sitk.Tile(img_slices, [maxlen,d])\n",
      "        #TODO check in code to get Tile Filter working with VectorImages\n",
      "        else:\n",
      "            img_comps = []\n",
      "            for i in range(0,img.GetNumberOfComponentsPerPixel()):\n",
      "                img_slices_c = [sitk.VectorIndexSelectionCast(s, i) for s in img_slices]\n",
      "                img_comps.append(sitk.Tile(img_slices_c, [maxlen,d]))\n",
      "            img = sitk.Compose(img_comps)\n",
      "            \n",
      "    \n",
      "    myshow(img, title, margin, dpi)"
     ],
     "language": "python",
     "metadata": {},
     "outputs": []
    },
    {
     "cell_type": "code",
     "collapsed": false,
     "input": [
      "img_T1 = sitk.ReadImage(\"Data/nac-brain-atlas-1.0/volumes/A1_grayT1.nrrd\")\n",
      "img_T2 = sitk.ReadImage(\"Data/nac-brain-atlas-1.0/volumes/A1_grayT2.nrrd\")\n",
      "img_labels = sitk.ReadImage(\"Data/nac-brain-atlas-1.0/volumes/A1_labels.nrrd\")"
     ],
     "language": "python",
     "metadata": {},
     "outputs": []
    },
    {
     "cell_type": "code",
     "collapsed": false,
     "input": [
      "sitk.Show(img_T1)"
     ],
     "language": "python",
     "metadata": {},
     "outputs": []
    },
    {
     "cell_type": "code",
     "collapsed": false,
     "input": [
      "pt = (110, 120, 132)"
     ],
     "language": "python",
     "metadata": {},
     "outputs": []
    },
    {
     "cell_type": "code",
     "collapsed": false,
     "input": [
      "seg = sitk.Image(img_T1.GetSize(), sitk.sitkUInt8)\n",
      "seg.CopyInformation(img_T1)\n",
      "seg[pt] = 1\n",
      "seg = sitk.BinaryDilate(seg, 3)"
     ],
     "language": "python",
     "metadata": {},
     "outputs": []
    },
    {
     "cell_type": "code",
     "collapsed": false,
     "input": [
      "img_T1_255 = sitk.Cast(sitk.RescaleIntensity(img_T1), sitk.sitkUInt8)\n",
      "sitk.Show(sitk.LabelOverlay(img_T1_255, seg))"
     ],
     "language": "python",
     "metadata": {},
     "outputs": []
    },
    {
     "cell_type": "code",
     "collapsed": false,
     "input": [
      "sitk.ConnectedThreshold?"
     ],
     "language": "python",
     "metadata": {},
     "outputs": []
    },
    {
     "cell_type": "code",
     "collapsed": false,
     "input": [
      "seg = sitk.ConfidenceConnected(img_T1, [pt], numberOfIterations=0, multiplier=2)\n",
      "sitk.Show(sitk.LabelOverlay(img_T1_255, seg))"
     ],
     "language": "python",
     "metadata": {},
     "outputs": []
    },
    {
     "cell_type": "code",
     "collapsed": false,
     "input": [
      "sitk.VectorConfidenceConnected?"
     ],
     "language": "python",
     "metadata": {},
     "outputs": []
    },
    {
     "cell_type": "code",
     "collapsed": false,
     "input": [
      "img_multi = sitk.Compose(img_T1, img_T2)\n",
      "seg = sitk.VectorConfidenceConnected(img_multi, [pt], numberOfIterations=2, multiplier=4.5)\n",
      "sitk.Show(sitk.LabelOverlay(img_T1_255, seg))"
     ],
     "language": "python",
     "metadata": {},
     "outputs": []
    },
    {
     "cell_type": "code",
     "collapsed": false,
     "input": [
      "size = img_multi.GetSize()\n",
      "myshow3d(sitk.LabelOverlay(img_T1_255,seg),yslices=range(50,size[1]-50,15), zslices=range(50,size[2]-50,15), dpi=30)"
     ],
     "language": "python",
     "metadata": {},
     "outputs": []
    },
    {
     "cell_type": "code",
     "collapsed": false,
     "input": [
      "for m in (2.5, 3.0, 3.5, 4.0):\n",
      "    seg = sitk.VectorConfidenceConnected(img_multi, [pt], numberOfIterations=2, multiplier=m)\n",
      "    myshow3d(sitk.LabelOverlay(img_T1_255,seg),yslices=range(50,size[1]-50,15), zslices=range(50,size[2]-50,15), dpi=30, title=\"VectorConfidence multi=\"+str(m))"
     ],
     "language": "python",
     "metadata": {},
     "outputs": []
    },
    {
     "cell_type": "code",
     "collapsed": false,
     "input": [
      "sitk.Show(sitk.LabelOverlay(img_T1_255, seg))\n",
      "sitk.Show(sitk.LaplacianRecursiveGaussian(img_T1,sigma=1.0))"
     ],
     "language": "python",
     "metadata": {},
     "outputs": []
    },
    {
     "cell_type": "code",
     "collapsed": false,
     "input": [
      "components = (img_T1, img_T2, sitk.LaplacianRecursiveGaussian(img_T1, .5), sitk.LaplacianRecursiveGaussian(img_T1, .5))\n",
      "components = [sitk.Cast(img, sitk.sitkFloat32) for img in components]\n",
      "img_multi = sitk.Compose(components)"
     ],
     "language": "python",
     "metadata": {},
     "outputs": []
    },
    {
     "cell_type": "code",
     "collapsed": false,
     "input": [],
     "language": "python",
     "metadata": {},
     "outputs": []
    }
   ],
   "metadata": {}
  }
 ]
}